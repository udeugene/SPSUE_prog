{
 "cells": [
  {
   "cell_type": "code",
   "execution_count": 23,
   "id": "fb3c4885",
   "metadata": {},
   "outputs": [],
   "source": [
    "import numpy as np\n",
    "from decimal import Decimal\n",
    "import matplotlib.pyplot as plt\n",
    "%matplotlib inline\n",
    "import math\n",
    "from matplotlib import style\n",
    "import inspect\n",
    "from IPython.display import display, clear_output\n",
    "\n",
    "style.use('ggplot')\n",
    "style.use('seaborn-ticks')"
   ]
  },
  {
   "cell_type": "markdown",
   "id": "2bb1bfb2",
   "metadata": {},
   "source": [
    "`Golden_search().fit()` - расчет алгоритма (нужно запустить после создания экземпляра класса)  \n",
    "`Golden_search().data` - таблица с пошаговыми расчетами  \n",
    "`Golden_search().rep()` - ответ  \n",
    "`Golden_search().vis()` - график функции с точкой минимума  \n",
    "`Golden_search().vis_steps()` - пошаговая визуализация  "
   ]
  },
  {
   "cell_type": "code",
   "execution_count": 24,
   "id": "a20e03f3",
   "metadata": {},
   "outputs": [],
   "source": [
    "def f(x):\n",
    "    return x**4 + 4*(x**3) + 7*(x**2) + 2*x + 1"
   ]
  },
  {
   "cell_type": "code",
   "execution_count": 25,
   "id": "73ffb068",
   "metadata": {},
   "outputs": [],
   "source": [
    "class Golden_search:\n",
    "    def __init__(self, f, a, b, e):\n",
    "        raw_f = inspect.getsource(f)\n",
    "        self.func = raw_f[raw_f.find('return') + 6:].strip()\n",
    "        self.bounds = [a, b]\n",
    "        self.e = e\n",
    "        self.prec = 4\n",
    "        \n",
    "    def f(self, x):\n",
    "        return f(x)\n",
    "\n",
    "    def fit(self):\n",
    "        f, a, b, e = self.f, self.bounds[0], self.bounds[1], self.e\n",
    "        prec = self.prec\n",
    "        \n",
    "        T = (3 - math.sqrt(5)) / 2\n",
    "        i = 0\n",
    "        log_dict = {}\n",
    "        x1 = a + T*(b-a)\n",
    "        x2 = a + b - x1\n",
    "        while 1:\n",
    "            y1 = round(f(x1), prec)\n",
    "            y2 = round(f(x2), prec)\n",
    "            log_dict[i] = [a, b, x1, y1, x2, y2]\n",
    "            i = i + 1\n",
    "            if y1 <= y2:\n",
    "                b = x2\n",
    "                x2 = x1\n",
    "                x1 = a + b - x2\n",
    "            else:\n",
    "                a = x1\n",
    "                x1 = x2\n",
    "                x2 = a + b - x1\n",
    "            l = b-a\n",
    "            if l <= e:\n",
    "                x_opt = 0.5 * (a+b)\n",
    "                log = pd.DataFrame(log_dict).T\n",
    "                opt = [x_opt, f(x_opt)]\n",
    "                log.columns = ['a', 'b', 'x1', 'y1', 'x2', 'y2']\n",
    "                self.res = opt\n",
    "                self.data = log\n",
    "                break\n",
    "                \n",
    "    def rep(self):\n",
    "        return print(f'Минимум функции f(x) = {self.func}, равный {round(self.res[1], self.prec)}  достигается при x = {round(self.res[0], self.prec)} с точностью e = {self.e} на шаге {len(self.data)}') \n",
    "                \n",
    "    def vis(self):\n",
    "        df, opt = self.data, self.res\n",
    "        f, a, b = self.f, self.bounds[0], self.bounds[1]\n",
    "        prec = self.prec\n",
    "        plt_x = np.linspace(a, b, round((b-a)*250))\n",
    "        plt_data = np.array([plt_x, [f(x) for x in plt_x]])\n",
    "        fig, ax = plt.subplots(figsize = (16, 9))\n",
    "        ax.plot(plt_data[0], plt_data[1], label = f'f(x) = {self.func}')\n",
    "        ax.scatter(opt[0], opt[1], c ='red', label = f'f(x*) = {round(opt[1], prec)}')\n",
    "        ax.legend( prop={'size': 14})\n",
    "        ax.grid()\n",
    "        return(ax)      \n",
    "            \n",
    "    \n",
    "    def vis_steps(self):\n",
    "        df, opt = self.data, self.res\n",
    "        f, a, b = self.f, self.bounds[0], self.bounds[1]\n",
    "        prec = self.prec\n",
    "        \n",
    "        plt_x = np.linspace(a, b, round((b-a)*250))\n",
    "        plt_data = np.array([plt_x, [f(x) for x in plt_x]])\n",
    "        fig, ax = plt.subplots(figsize = (16, 9))   \n",
    "        \n",
    "        for i in range(5):\n",
    "            display(fig)\n",
    "            ax.cla()\n",
    "            clear_output(wait = True)\n",
    "            plt.pause(0.5)\n",
    "        \n",
    "        for i in range(len(df)):\n",
    "            if i % 7 == 0 and i != 0:\n",
    "                a,b = x1 - a / 4 * x1, x2 + b / 4\n",
    "            ax.set_xlim(a, b)\n",
    "            \n",
    "            x1 = df['x1'][i]\n",
    "            y1 = df['y1'][i]\n",
    "            \n",
    "            x2 = df['x2'][i]\n",
    "            y2 = df['y2'][i]\n",
    "            \n",
    "            ax.scatter(x1, y1, c = 'white', label = f'step = {i + 1}')\n",
    "            \n",
    "            ax.axvline(df['a'][i], c = 'blue', label = f'a = {round(df[\"a\"][i], prec)}')\n",
    "            ax.axvline(df['b'][i], c = 'orange', label = f'b = {round(df[\"b\"][i], prec)}')\n",
    "            \n",
    "            ax.scatter(x1, y1, marker = 'x', c = 'black', label = f'f(x1) = {y1}')\n",
    "            \n",
    "            ax.plot(plt_data[0], plt_data[1])\n",
    "            ax.scatter(x2, y2, marker = 'x', c = 'red', label = f'f(x2) = {y2}')\n",
    "            \n",
    "            if i == len(df) - 1:\n",
    "                ax.scatter(opt[0], opt[1], c = 'red', marker = '|', label = f'f(x*) = {round(opt[1], prec)}')\n",
    "                       \n",
    "            ax.legend( prop={'size': 14})\n",
    "            ax.grid()\n",
    "            display(fig)\n",
    "            \n",
    "            ax.cla()\n",
    "\n",
    "            clear_output(wait = True)\n",
    "            plt.pause(0.5)\n",
    "       "
   ]
  },
  {
   "cell_type": "code",
   "execution_count": 26,
   "id": "debf121a",
   "metadata": {},
   "outputs": [],
   "source": [
    "task1 = Golden_search(f, -3, 2, 0.001)\n",
    "task1.fit()"
   ]
  },
  {
   "cell_type": "code",
   "execution_count": 27,
   "id": "4e54b066",
   "metadata": {},
   "outputs": [
    {
     "name": "stdout",
     "output_type": "stream",
     "text": [
      "Минимум функции f(x) = x**4 + 4*(x**3) + 7*(x**2) + 2*x + 1, равный 0.8435  достигается при x = -0.1694 с точностью e = 0.001 на шаге 18\n"
     ]
    }
   ],
   "source": [
    "task1.rep()"
   ]
  },
  {
   "cell_type": "code",
   "execution_count": 28,
   "id": "9fa285ab",
   "metadata": {},
   "outputs": [
    {
     "data": {
      "image/png": "[encoded data removed]",
      "text/plain": [
       "<Figure size 1152x648 with 1 Axes>"
      ]
     },
     "metadata": {},
     "output_type": "display_data"
    }
   ],
   "source": [
    "task1.vis_steps()"
   ]
  },
  {
   "cell_type": "code",
   "execution_count": 14,
   "id": "aaf5b329",
   "metadata": {},
   "outputs": [
    {
     "data": {
      "image/png": "[encoded data removed]",
      "text/plain": [
       "<Figure size 1152x648 with 1 Axes>"
      ]
     },
     "metadata": {},
     "output_type": "display_data"
    }
   ],
   "source": [
    "task1.vis();"
   ]
  },
  {
   "cell_type": "code",
   "execution_count": 15,
   "id": "3120082a",
   "metadata": {},
   "outputs": [
    {
     "data": {
      "text/html": [
       "<div>\n",
       "<style scoped>\n",
       "    .dataframe tbody tr th:only-of-type {\n",
       "        vertical-align: middle;\n",
       "    }\n",
       "\n",
       "    .dataframe tbody tr th {\n",
       "        vertical-align: top;\n",
       "    }\n",
       "\n",
       "    .dataframe thead th {\n",
       "        text-align: right;\n",
       "    }\n",
       "</style>\n",
       "<table border=\"1\" class=\"dataframe\">\n",
       "  <thead>\n",
       "    <tr style=\"text-align: right;\">\n",
       "      <th></th>\n",
       "      <th>a</th>\n",
       "      <th>b</th>\n",
       "      <th>x1</th>\n",
       "      <th>y1</th>\n",
       "      <th>x2</th>\n",
       "      <th>y2</th>\n",
       "    </tr>\n",
       "  </thead>\n",
       "  <tbody>\n",
       "    <tr>\n",
       "      <th>0</th>\n",
       "      <td>-3.000000</td>\n",
       "      <td>2.000000</td>\n",
       "      <td>-1.090170</td>\n",
       "      <td>3.3689</td>\n",
       "      <td>0.090170</td>\n",
       "      <td>1.2403</td>\n",
       "    </tr>\n",
       "    <tr>\n",
       "      <th>1</th>\n",
       "      <td>-1.090170</td>\n",
       "      <td>2.000000</td>\n",
       "      <td>0.090170</td>\n",
       "      <td>1.2403</td>\n",
       "      <td>0.819660</td>\n",
       "      <td>9.9963</td>\n",
       "    </tr>\n",
       "    <tr>\n",
       "      <th>2</th>\n",
       "      <td>-1.090170</td>\n",
       "      <td>0.819660</td>\n",
       "      <td>-0.360680</td>\n",
       "      <td>1.0185</td>\n",
       "      <td>0.090170</td>\n",
       "      <td>1.2403</td>\n",
       "    </tr>\n",
       "    <tr>\n",
       "      <th>3</th>\n",
       "      <td>-1.090170</td>\n",
       "      <td>0.090170</td>\n",
       "      <td>-0.639320</td>\n",
       "      <td>1.7043</td>\n",
       "      <td>-0.360680</td>\n",
       "      <td>1.0185</td>\n",
       "    </tr>\n",
       "    <tr>\n",
       "      <th>4</th>\n",
       "      <td>-0.639320</td>\n",
       "      <td>0.090170</td>\n",
       "      <td>-0.360680</td>\n",
       "      <td>1.0185</td>\n",
       "      <td>-0.188471</td>\n",
       "      <td>0.8462</td>\n",
       "    </tr>\n",
       "    <tr>\n",
       "      <th>5</th>\n",
       "      <td>-0.360680</td>\n",
       "      <td>0.090170</td>\n",
       "      <td>-0.188471</td>\n",
       "      <td>0.8462</td>\n",
       "      <td>-0.082039</td>\n",
       "      <td>0.8809</td>\n",
       "    </tr>\n",
       "    <tr>\n",
       "      <th>6</th>\n",
       "      <td>-0.360680</td>\n",
       "      <td>-0.082039</td>\n",
       "      <td>-0.254249</td>\n",
       "      <td>0.8824</td>\n",
       "      <td>-0.188471</td>\n",
       "      <td>0.8462</td>\n",
       "    </tr>\n",
       "    <tr>\n",
       "      <th>7</th>\n",
       "      <td>-0.254249</td>\n",
       "      <td>-0.082039</td>\n",
       "      <td>-0.188471</td>\n",
       "      <td>0.8462</td>\n",
       "      <td>-0.147817</td>\n",
       "      <td>0.8449</td>\n",
       "    </tr>\n",
       "    <tr>\n",
       "      <th>8</th>\n",
       "      <td>-0.188471</td>\n",
       "      <td>-0.082039</td>\n",
       "      <td>-0.147817</td>\n",
       "      <td>0.8449</td>\n",
       "      <td>-0.122692</td>\n",
       "      <td>0.8528</td>\n",
       "    </tr>\n",
       "    <tr>\n",
       "      <th>9</th>\n",
       "      <td>-0.188471</td>\n",
       "      <td>-0.122692</td>\n",
       "      <td>-0.163346</td>\n",
       "      <td>0.8434</td>\n",
       "      <td>-0.147817</td>\n",
       "      <td>0.8449</td>\n",
       "    </tr>\n",
       "    <tr>\n",
       "      <th>10</th>\n",
       "      <td>-0.188471</td>\n",
       "      <td>-0.147817</td>\n",
       "      <td>-0.172942</td>\n",
       "      <td>0.8437</td>\n",
       "      <td>-0.163346</td>\n",
       "      <td>0.8434</td>\n",
       "    </tr>\n",
       "    <tr>\n",
       "      <th>11</th>\n",
       "      <td>-0.172942</td>\n",
       "      <td>-0.147817</td>\n",
       "      <td>-0.163346</td>\n",
       "      <td>0.8434</td>\n",
       "      <td>-0.157414</td>\n",
       "      <td>0.8436</td>\n",
       "    </tr>\n",
       "    <tr>\n",
       "      <th>12</th>\n",
       "      <td>-0.172942</td>\n",
       "      <td>-0.157414</td>\n",
       "      <td>-0.167011</td>\n",
       "      <td>0.8434</td>\n",
       "      <td>-0.163346</td>\n",
       "      <td>0.8434</td>\n",
       "    </tr>\n",
       "    <tr>\n",
       "      <th>13</th>\n",
       "      <td>-0.172942</td>\n",
       "      <td>-0.163346</td>\n",
       "      <td>-0.169277</td>\n",
       "      <td>0.8434</td>\n",
       "      <td>-0.167011</td>\n",
       "      <td>0.8434</td>\n",
       "    </tr>\n",
       "    <tr>\n",
       "      <th>14</th>\n",
       "      <td>-0.172942</td>\n",
       "      <td>-0.167011</td>\n",
       "      <td>-0.170677</td>\n",
       "      <td>0.8435</td>\n",
       "      <td>-0.169277</td>\n",
       "      <td>0.8434</td>\n",
       "    </tr>\n",
       "    <tr>\n",
       "      <th>15</th>\n",
       "      <td>-0.170677</td>\n",
       "      <td>-0.167011</td>\n",
       "      <td>-0.169277</td>\n",
       "      <td>0.8434</td>\n",
       "      <td>-0.168411</td>\n",
       "      <td>0.8434</td>\n",
       "    </tr>\n",
       "    <tr>\n",
       "      <th>16</th>\n",
       "      <td>-0.170677</td>\n",
       "      <td>-0.168411</td>\n",
       "      <td>-0.169812</td>\n",
       "      <td>0.8435</td>\n",
       "      <td>-0.169277</td>\n",
       "      <td>0.8434</td>\n",
       "    </tr>\n",
       "    <tr>\n",
       "      <th>17</th>\n",
       "      <td>-0.169812</td>\n",
       "      <td>-0.168411</td>\n",
       "      <td>-0.169277</td>\n",
       "      <td>0.8434</td>\n",
       "      <td>-0.168946</td>\n",
       "      <td>0.8434</td>\n",
       "    </tr>\n",
       "  </tbody>\n",
       "</table>\n",
       "</div>"
      ],
      "text/plain": [
       "           a         b        x1      y1        x2      y2\n",
       "0  -3.000000  2.000000 -1.090170  3.3689  0.090170  1.2403\n",
       "1  -1.090170  2.000000  0.090170  1.2403  0.819660  9.9963\n",
       "2  -1.090170  0.819660 -0.360680  1.0185  0.090170  1.2403\n",
       "3  -1.090170  0.090170 -0.639320  1.7043 -0.360680  1.0185\n",
       "4  -0.639320  0.090170 -0.360680  1.0185 -0.188471  0.8462\n",
       "5  -0.360680  0.090170 -0.188471  0.8462 -0.082039  0.8809\n",
       "6  -0.360680 -0.082039 -0.254249  0.8824 -0.188471  0.8462\n",
       "7  -0.254249 -0.082039 -0.188471  0.8462 -0.147817  0.8449\n",
       "8  -0.188471 -0.082039 -0.147817  0.8449 -0.122692  0.8528\n",
       "9  -0.188471 -0.122692 -0.163346  0.8434 -0.147817  0.8449\n",
       "10 -0.188471 -0.147817 -0.172942  0.8437 -0.163346  0.8434\n",
       "11 -0.172942 -0.147817 -0.163346  0.8434 -0.157414  0.8436\n",
       "12 -0.172942 -0.157414 -0.167011  0.8434 -0.163346  0.8434\n",
       "13 -0.172942 -0.163346 -0.169277  0.8434 -0.167011  0.8434\n",
       "14 -0.172942 -0.167011 -0.170677  0.8435 -0.169277  0.8434\n",
       "15 -0.170677 -0.167011 -0.169277  0.8434 -0.168411  0.8434\n",
       "16 -0.170677 -0.168411 -0.169812  0.8435 -0.169277  0.8434\n",
       "17 -0.169812 -0.168411 -0.169277  0.8434 -0.168946  0.8434"
      ]
     },
     "execution_count": 15,
     "metadata": {},
     "output_type": "execute_result"
    }
   ],
   "source": [
    "task1.data"
   ]
  },
  {
   "cell_type": "code",
   "execution_count": 16,
   "id": "9daebab4",
   "metadata": {},
   "outputs": [],
   "source": [
    "def unimodality_search(f, x, d):\n",
    "    f1, f2 = f(x), f(x + d)\n",
    "    if f1 > f2:\n",
    "        a = x\n",
    "        x += d\n",
    "        f1 = f2\n",
    "    else:\n",
    "        if f(x - d) >= f(x):\n",
    "            return [x - d, x + d]\n",
    "        b = x\n",
    "        x = x - d\n",
    "        f1 = f(x - d)\n",
    "        d = - d\n",
    "    k = 2\n",
    "    x_k = x + (2 ** (k - 1)) * d\n",
    "    f_k = f(x_k)\n",
    "    while f(x) > f(x_k):\n",
    "        if d > 0:\n",
    "            a = x\n",
    "        else:\n",
    "            b = x\n",
    "        k += 1\n",
    "        x = x_k\n",
    "        x_k = x + (2 ** (k - 1)) * d\n",
    "    if d > 0:\n",
    "        b = x_k\n",
    "    else:\n",
    "        a = x_k\n",
    "    return [a, b]"
   ]
  },
  {
   "cell_type": "code",
   "execution_count": 17,
   "id": "994e51e3",
   "metadata": {},
   "outputs": [
    {
     "data": {
      "text/plain": [
       "[-5.905, 6.383]"
      ]
     },
     "execution_count": 17,
     "metadata": {},
     "output_type": "execute_result"
    }
   ],
   "source": [
    "unimodality_search(f, -10, 0.001)"
   ]
  },
  {
   "cell_type": "code",
   "execution_count": 18,
   "id": "c379f51b",
   "metadata": {},
   "outputs": [
    {
     "data": {
      "text/plain": [
       "'1e-05'"
      ]
     },
     "execution_count": 18,
     "metadata": {},
     "output_type": "execute_result"
    }
   ],
   "source": [
    "str(0.00001)"
   ]
  },
  {
   "cell_type": "code",
   "execution_count": null,
   "id": "eb9fd6ac",
   "metadata": {},
   "outputs": [],
   "source": []
  }
 ],
 "metadata": {
  "kernelspec": {
   "display_name": "Python 3",
   "language": "python",
   "name": "python3"
  },
  "language_info": {
   "codemirror_mode": {
    "name": "ipython",
    "version": 3
   },
   "file_extension": ".py",
   "mimetype": "text/x-python",
   "name": "python",
   "nbconvert_exporter": "python",
   "pygments_lexer": "ipython3",
   "version": "3.8.11"
  },
  "varInspector": {
   "cols": {
    "lenName": 16,
    "lenType": 16,
    "lenVar": 40
   },
   "kernels_config": {
    "python": {
     "delete_cmd_postfix": "",
     "delete_cmd_prefix": "del ",
     "library": "var_list.py",
     "varRefreshCmd": "print(var_dic_list())"
    },
    "r": {
     "delete_cmd_postfix": ") ",
     "delete_cmd_prefix": "rm(",
     "library": "var_list.r",
     "varRefreshCmd": "cat(var_dic_list()) "
    }
   },
   "types_to_exclude": [
    "module",
    "function",
    "builtin_function_or_method",
    "instance",
    "_Feature"
   ],
   "window_display": false
  }
 },
 "nbformat": 4,
 "nbformat_minor": 5
}
